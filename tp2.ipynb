{
  "nbformat": 4,
  "nbformat_minor": 0,
  "metadata": {
    "colab": {
      "provenance": [],
      "authorship_tag": "ABX9TyOPfCii/+kDHIG9gRnKbWEk",
      "include_colab_link": true
    },
    "kernelspec": {
      "name": "python3",
      "display_name": "Python 3"
    },
    "language_info": {
      "name": "python"
    }
  },
  "cells": [
    {
      "cell_type": "markdown",
      "metadata": {
        "id": "view-in-github",
        "colab_type": "text"
      },
      "source": [
        "<a href=\"https://colab.research.google.com/github/flaviorv/ai_model_lifecycle/blob/tp2/tp2.ipynb\" target=\"_parent\"><img src=\"https://colab.research.google.com/assets/colab-badge.svg\" alt=\"Open In Colab\"/></a>"
      ]
    },
    {
      "cell_type": "markdown",
      "source": [
        "###Feature Selection"
      ],
      "metadata": {
        "id": "c26ru7QJZOx-"
      }
    },
    {
      "cell_type": "code",
      "execution_count": 19,
      "metadata": {
        "colab": {
          "base_uri": "https://localhost:8080/"
        },
        "id": "nm_ncvRETr8q",
        "outputId": "ebd98c44-b6d2-45b5-b78f-0bb87ebd2761"
      },
      "outputs": [
        {
          "output_type": "stream",
          "name": "stdout",
          "text": [
            "Recall 0.9636363636363636   Neighbors  10 Features   5\n",
            "Recall 0.9636363636363636   Neighbors  10 Features  15\n",
            "Recall 0.9636363636363636   Neighbors  10 Features  25\n",
            "Recall 1.0                  Neighbors  20 Features   5\n",
            "Recall 1.0                  Neighbors  20 Features  15\n",
            "Recall 1.0                  Neighbors  20 Features  25\n",
            "Recall 1.0                  Neighbors  30 Features   5\n",
            "Recall 1.0                  Neighbors  30 Features  15\n",
            "Recall 1.0                  Neighbors  30 Features  25\n"
          ]
        }
      ],
      "source": [
        "from sklearn.datasets import load_breast_cancer\n",
        "from sklearn.model_selection import train_test_split, cross_val_score\n",
        "from sklearn.feature_selection import SequentialFeatureSelector as SFS\n",
        "from sklearn.neighbors import KNeighborsClassifier as KNN\n",
        "import seaborn as sns\n",
        "\n",
        "breast_cancer = load_breast_cancer()\n",
        "x = breast_cancer.data\n",
        "y = breast_cancer.target\n",
        "\n",
        "#Separating train, validation and test\n",
        "x_train, x_test, y_train, y_test = train_test_split(x, y, train_size=0.8, random_state=42)\n",
        "x_train, x_val, y_train, y_val = train_test_split(x_train, y_train, train_size=0.8, random_state=42)\n",
        "\n",
        "result = {\n",
        "    'recall': [],\n",
        "    'features': [],\n",
        "    'neighbors': [],\n",
        "    'masks': {}\n",
        "}\n",
        "\n",
        "#Wrapper with different number of neighbors and features\n",
        "for nk in range(10, 31, 10):\n",
        "  for nf in range(5, 26, 10):\n",
        "    knn = KNN(n_neighbors=nk)\n",
        "    sfs = SFS(\n",
        "        estimator=knn,\n",
        "        n_features_to_select=nf,\n",
        "        scoring='recall',\n",
        "        cv=2,\n",
        "        n_jobs=-1\n",
        "    )\n",
        "\n",
        "    sfs.fit(x_train, y_train)\n",
        "    mask = sfs.get_support(indices=True)\n",
        "    recall = cross_val_score(knn, x_val, y_val, cv=5, scoring='recall')\n",
        "    recall_mean = recall.mean()\n",
        "    print(f\"Recall {recall.mean():<20} Neighbors {nk:>3} Features {nf:>3}\")\n",
        "    result['recall'].append(recall_mean)\n",
        "    result['neighbors'].append(nk)\n",
        "    result['features'].append(nf)\n",
        "    if nf not in result['masks']:\n",
        "        result['masks'][nf] = []\n",
        "    result['masks'][nf].append(mask)"
      ]
    },
    {
      "cell_type": "markdown",
      "source": [
        "###Chart with the best combination for the best recall"
      ],
      "metadata": {
        "id": "zgvgIwTTaQUS"
      }
    },
    {
      "cell_type": "code",
      "source": [
        "chart = sns.catplot(data=result, x=\"neighbors\", y=\"recall\", hue='features', kind='bar')\n",
        "chart.set(ylim=(0.9, 1.0))"
      ],
      "metadata": {
        "colab": {
          "base_uri": "https://localhost:8080/",
          "height": 530
        },
        "id": "3nc_e0NeYO_8",
        "outputId": "d73923a0-9af6-419c-cef9-6557308f3c11"
      },
      "execution_count": 20,
      "outputs": [
        {
          "output_type": "execute_result",
          "data": {
            "text/plain": [
              "<seaborn.axisgrid.FacetGrid at 0x7cff647e0990>"
            ]
          },
          "metadata": {},
          "execution_count": 20
        },
        {
          "output_type": "display_data",
          "data": {
            "text/plain": [
              "<Figure size 568.611x500 with 1 Axes>"
            ],
            "image/png": "[encoded data removed]"
          },
          "metadata": {}
        }
      ]
    },
    {
      "cell_type": "markdown",
      "source": [
        "###Finding the best combination in the test"
      ],
      "metadata": {
        "id": "wJeUFd0Caqaw"
      }
    },
    {
      "cell_type": "code",
      "source": [
        "best_nf = 5\n",
        "best_nk = [20, 30]\n",
        "\n",
        "for nk in best_nk:\n",
        "  knn = KNN(n_neighbors=nk)\n",
        "  knn.fit(x_train, y_train)\n",
        "  for i in range(len(result['masks'][best_nf])):\n",
        "    selected_features = result['masks'][best_nf][i]\n",
        "    score = cross_val_score(knn, x_test[:, selected_features], y_test, cv=5, scoring='recall')\n",
        "    print(f'Neighbors {nk}')\n",
        "    print(f'Features {breast_cancer.feature_names[selected_features]}')\n",
        "    print('Recall', score.mean(), '\\n')"
      ],
      "metadata": {
        "colab": {
          "base_uri": "https://localhost:8080/"
        },
        "id": "gkp7GqCqluwA",
        "outputId": "dd711a88-bb45-49ad-95f4-acaef53a4a31"
      },
      "execution_count": 40,
      "outputs": [
        {
          "output_type": "stream",
          "name": "stdout",
          "text": [
            "Neighbors 20\n",
            "Features ['mean concave points' 'mean fractal dimension' 'texture error'\n",
            " 'worst smoothness' 'worst concave points']\n",
            "Recall 0.9857142857142858 \n",
            "\n",
            "Neighbors 20\n",
            "Features ['mean radius' 'mean smoothness' 'mean compactness' 'mean concavity'\n",
            " 'worst radius']\n",
            "Recall 1.0 \n",
            "\n",
            "Neighbors 20\n",
            "Features ['mean radius' 'mean perimeter' 'mean smoothness' 'mean compactness'\n",
            " 'area error']\n",
            "Recall 0.9714285714285715 \n",
            "\n",
            "Neighbors 30\n",
            "Features ['mean concave points' 'mean fractal dimension' 'texture error'\n",
            " 'worst smoothness' 'worst concave points']\n",
            "Recall 1.0 \n",
            "\n",
            "Neighbors 30\n",
            "Features ['mean radius' 'mean smoothness' 'mean compactness' 'mean concavity'\n",
            " 'worst radius']\n",
            "Recall 1.0 \n",
            "\n",
            "Neighbors 30\n",
            "Features ['mean radius' 'mean perimeter' 'mean smoothness' 'mean compactness'\n",
            " 'area error']\n",
            "Recall 0.9857142857142858 \n",
            "\n"
          ]
        }
      ]
    }
  ]
}