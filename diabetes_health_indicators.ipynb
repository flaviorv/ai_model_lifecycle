{
  "nbformat": 4,
  "nbformat_minor": 0,
  "metadata": {
    "colab": {
      "provenance": [],
      "authorship_tag": "ABX9TyOOuEc1UV33og/HV0LpfYRn",
      "include_colab_link": true
    },
    "kernelspec": {
      "name": "python3",
      "display_name": "Python 3"
    },
    "language_info": {
      "name": "python"
    }
  },
  "cells": [
    {
      "cell_type": "markdown",
      "metadata": {
        "id": "view-in-github",
        "colab_type": "text"
      },
      "source": [
        "<a href=\"https://colab.research.google.com/github/flaviorv/ai_model_lifecycle/blob/main/diabetes_health_indicators.ipynb\" target=\"_parent\"><img src=\"https://colab.research.google.com/assets/colab-badge.svg\" alt=\"Open In Colab\"/></a>"
      ]
    },
    {
      "cell_type": "markdown",
      "source": [
        "###Installing repo and a lib to generate synthetic data"
      ],
      "metadata": {
        "id": "IiEpIV1TFU6j"
      }
    },
    {
      "cell_type": "code",
      "source": [
        "!pip install ucimlrepo\n",
        "!pip install imbalanced-learn"
      ],
      "metadata": {
        "colab": {
          "base_uri": "https://localhost:8080/"
        },
        "id": "EwFzFshFFOqt",
        "outputId": "b34d12cb-c457-4389-ea0a-3f870866f69d"
      },
      "execution_count": 2,
      "outputs": [
        {
          "output_type": "stream",
          "name": "stdout",
          "text": [
            "Collecting ucimlrepo\n",
            "  Downloading ucimlrepo-0.0.7-py3-none-any.whl.metadata (5.5 kB)\n",
            "Requirement already satisfied: pandas>=1.0.0 in /usr/local/lib/python3.11/dist-packages (from ucimlrepo) (2.2.2)\n",
            "Requirement already satisfied: certifi>=2020.12.5 in /usr/local/lib/python3.11/dist-packages (from ucimlrepo) (2025.6.15)\n",
            "Requirement already satisfied: numpy>=1.23.2 in /usr/local/lib/python3.11/dist-packages (from pandas>=1.0.0->ucimlrepo) (2.0.2)\n",
            "Requirement already satisfied: python-dateutil>=2.8.2 in /usr/local/lib/python3.11/dist-packages (from pandas>=1.0.0->ucimlrepo) (2.9.0.post0)\n",
            "Requirement already satisfied: pytz>=2020.1 in /usr/local/lib/python3.11/dist-packages (from pandas>=1.0.0->ucimlrepo) (2025.2)\n",
            "Requirement already satisfied: tzdata>=2022.7 in /usr/local/lib/python3.11/dist-packages (from pandas>=1.0.0->ucimlrepo) (2025.2)\n",
            "Requirement already satisfied: six>=1.5 in /usr/local/lib/python3.11/dist-packages (from python-dateutil>=2.8.2->pandas>=1.0.0->ucimlrepo) (1.17.0)\n",
            "Downloading ucimlrepo-0.0.7-py3-none-any.whl (8.0 kB)\n",
            "Installing collected packages: ucimlrepo\n",
            "Successfully installed ucimlrepo-0.0.7\n",
            "Requirement already satisfied: imbalanced-learn in /usr/local/lib/python3.11/dist-packages (0.13.0)\n",
            "Requirement already satisfied: numpy<3,>=1.24.3 in /usr/local/lib/python3.11/dist-packages (from imbalanced-learn) (2.0.2)\n",
            "Requirement already satisfied: scipy<2,>=1.10.1 in /usr/local/lib/python3.11/dist-packages (from imbalanced-learn) (1.15.3)\n",
            "Requirement already satisfied: scikit-learn<2,>=1.3.2 in /usr/local/lib/python3.11/dist-packages (from imbalanced-learn) (1.6.1)\n",
            "Requirement already satisfied: sklearn-compat<1,>=0.1 in /usr/local/lib/python3.11/dist-packages (from imbalanced-learn) (0.1.3)\n",
            "Requirement already satisfied: joblib<2,>=1.1.1 in /usr/local/lib/python3.11/dist-packages (from imbalanced-learn) (1.5.1)\n",
            "Requirement already satisfied: threadpoolctl<4,>=2.0.0 in /usr/local/lib/python3.11/dist-packages (from imbalanced-learn) (3.6.0)\n"
          ]
        }
      ]
    },
    {
      "cell_type": "markdown",
      "source": [
        "###Imports"
      ],
      "metadata": {
        "id": "aT2V_d_nYcvi"
      }
    },
    {
      "cell_type": "code",
      "source": [
        "from sklearn.model_selection import train_test_split, cross_validate\n",
        "from sklearn.preprocessing import MinMaxScaler\n",
        "from sklearn.neighbors import KNeighborsClassifier\n",
        "from sklearn.metrics import classification_report\n",
        "from imblearn.over_sampling import SMOTE\n",
        "from imblearn.pipeline import Pipeline\n",
        "from ucimlrepo import fetch_ucirepo\n",
        "import pandas as pd"
      ],
      "metadata": {
        "id": "tGAYEDQVYizs"
      },
      "execution_count": 11,
      "outputs": []
    },
    {
      "cell_type": "markdown",
      "source": [
        "###Get data"
      ],
      "metadata": {
        "id": "nGt6AmNtFFkV"
      }
    },
    {
      "cell_type": "code",
      "execution_count": 2,
      "metadata": {
        "id": "Gj1ScxlRE0YX",
        "colab": {
          "base_uri": "https://localhost:8080/",
          "height": 823
        },
        "outputId": "f9772ebc-8faf-4e0d-da96-791d6350c3ce"
      },
      "outputs": [
        {
          "output_type": "stream",
          "name": "stdout",
          "text": [
            "Variable Information:\n"
          ]
        },
        {
          "output_type": "display_data",
          "data": {
            "text/plain": [
              "                    name     role     type      demographic  \\\n",
              "0                     ID       ID  Integer             None   \n",
              "1        Diabetes_binary   Target   Binary             None   \n",
              "2                 HighBP  Feature   Binary             None   \n",
              "3               HighChol  Feature   Binary             None   \n",
              "4              CholCheck  Feature   Binary             None   \n",
              "5                    BMI  Feature  Integer             None   \n",
              "6                 Smoker  Feature   Binary             None   \n",
              "7                 Stroke  Feature   Binary             None   \n",
              "8   HeartDiseaseorAttack  Feature   Binary             None   \n",
              "9           PhysActivity  Feature   Binary             None   \n",
              "10                Fruits  Feature   Binary             None   \n",
              "11               Veggies  Feature   Binary             None   \n",
              "12     HvyAlcoholConsump  Feature   Binary             None   \n",
              "13         AnyHealthcare  Feature   Binary             None   \n",
              "14           NoDocbcCost  Feature   Binary             None   \n",
              "15               GenHlth  Feature  Integer             None   \n",
              "16              MentHlth  Feature  Integer             None   \n",
              "17              PhysHlth  Feature  Integer             None   \n",
              "18              DiffWalk  Feature   Binary             None   \n",
              "19                   Sex  Feature   Binary              Sex   \n",
              "20                   Age  Feature  Integer              Age   \n",
              "21             Education  Feature  Integer  Education Level   \n",
              "22                Income  Feature  Integer           Income   \n",
              "\n",
              "                                                                                                                                                                                                                                                                                                                                description  \\\n",
              "0                                                                                                                                                                                                                                                                                                                                Patient ID   \n",
              "1                                                                                                                                                                                                                                                                                               0 = no diabetes 1 = prediabetes or diabetes   \n",
              "2                                                                                                                                                                                                                                                                                                                0 = no high BP 1 = high BP   \n",
              "3                                                                                                                                                                                                                                                                                              0 = no high cholesterol 1 = high cholesterol   \n",
              "4                                                                                                                                                                                                                                                                  0 = no cholesterol check in 5 years 1 = yes cholesterol check in 5 years   \n",
              "5                                                                                                                                                                                                                                                                                                                           Body Mass Index   \n",
              "6                                                                                                                                                                                                                              Have you smoked at least 100 cigarettes in your entire life? [Note: 5 packs = 100 cigarettes] 0 = no 1 = yes   \n",
              "7                                                                                                                                                                                                                                                                                              (Ever told) you had a stroke. 0 = no 1 = yes   \n",
              "8                                                                                                                                                                                                                                                                 coronary heart disease (CHD) or myocardial infarction (MI) 0 = no 1 = yes   \n",
              "9                                                                                                                                                                                                                                                                      physical activity in past 30 days - not including job 0 = no 1 = yes   \n",
              "10                                                                                                                                                                                                                                                                                     Consume Fruit 1 or more times per day 0 = no 1 = yes   \n",
              "11                                                                                                                                                                                                                                                                                Consume Vegetables 1 or more times per day 0 = no 1 = yes   \n",
              "12                                                                                                                                                                                                         Heavy drinkers (adult men having more than 14 drinks per week and adult women having more than 7 drinks per week) 0 = no 1 = yes   \n",
              "13                                                                                                                                                                                                                        Have any kind of health care coverage, including health insurance, prepaid plans such as HMO, etc. 0 = no 1 = yes   \n",
              "14                                                                                                                                                                                                                     Was there a time in the past 12 months when you needed to see a doctor but could not because of cost? 0 = no 1 = yes   \n",
              "15                                                                                                                                                                                                                           Would you say that in general your health is: scale 1-5 1 = excellent 2 = very good 3 = good 4 = fair 5 = poor   \n",
              "16                                                                                                                                         Now thinking about your mental health, which includes stress, depression, and problems with emotions, for how many days during the past 30 days was your mental health not good? scale 1-30 days   \n",
              "17                                                                                                                                                        Now thinking about your physical health, which includes physical illness and injury, for how many days during the past 30 days was your physical health not good? scale 1-30 days   \n",
              "18                                                                                                                                                                                                                                                                Do you have serious difficulty walking or climbing stairs? 0 = no 1 = yes   \n",
              "19                                                                                                                                                                                                                                                                                                                      0 = female 1 = male   \n",
              "20                                                                                                                                                                                                                                                       13-level age category (_AGEG5YR see codebook) 1 = 18-24 9 = 60-64 13 = 80 or older   \n",
              "21  Education level (EDUCA see codebook) scale 1-6 1 = Never attended school or only kindergarten 2 = Grades 1 through 8 (Elementary) 3 = Grades 9 through 11 (Some high school) 4 = Grade 12 or GED (High school graduate) 5 = College 1 year to 3 years (Some college or technical school) 6 = College 4 years or more (College graduate)   \n",
              "22                                                                                                                                                                                                                            Income scale (INCOME2 see codebook) scale 1-8 1 = less than $10,000 5 = less than $35,000 8 = $75,000 or more   \n",
              "\n",
              "   units missing_values  \n",
              "0   None             no  \n",
              "1   None             no  \n",
              "2   None             no  \n",
              "3   None             no  \n",
              "4   None             no  \n",
              "5   None             no  \n",
              "6   None             no  \n",
              "7   None             no  \n",
              "8   None             no  \n",
              "9   None             no  \n",
              "10  None             no  \n",
              "11  None             no  \n",
              "12  None             no  \n",
              "13  None             no  \n",
              "14  None             no  \n",
              "15  None             no  \n",
              "16  None             no  \n",
              "17  None             no  \n",
              "18  None             no  \n",
              "19  None             no  \n",
              "20  None             no  \n",
              "21  None             no  \n",
              "22  None             no  "
            ],
            "text/html": [
              "\n",
              "  <div id=\"df-49618467-c108-446f-8526-70705354d527\" class=\"colab-df-container\">\n",
              "    <div>\n",
              "<style scoped>\n",
              "    .dataframe tbody tr th:only-of-type {\n",
              "        vertical-align: middle;\n",
              "    }\n",
              "\n",
              "    .dataframe tbody tr th {\n",
              "        vertical-align: top;\n",
              "    }\n",
              "\n",
              "    .dataframe thead th {\n",
              "        text-align: right;\n",
              "    }\n",
              "</style>\n",
              "<table border=\"1\" class=\"dataframe\">\n",
              "  <thead>\n",
              "    <tr style=\"text-align: right;\">\n",
              "      <th></th>\n",
              "      <th>name</th>\n",
              "      <th>role</th>\n",
              "      <th>type</th>\n",
              "      <th>demographic</th>\n",
              "      <th>description</th>\n",
              "      <th>units</th>\n",
              "      <th>missing_values</th>\n",
              "    </tr>\n",
              "  </thead>\n",
              "  <tbody>\n",
              "    <tr>\n",
              "      <th>0</th>\n",
              "      <td>ID</td>\n",
              "      <td>ID</td>\n",
              "      <td>Integer</td>\n",
              "      <td>None</td>\n",
              "      <td>Patient ID</td>\n",
              "      <td>None</td>\n",
              "      <td>no</td>\n",
              "    </tr>\n",
              "    <tr>\n",
              "      <th>1</th>\n",
              "      <td>Diabetes_binary</td>\n",
              "      <td>Target</td>\n",
              "      <td>Binary</td>\n",
              "      <td>None</td>\n",
              "      <td>0 = no diabetes 1 = prediabetes or diabetes</td>\n",
              "      <td>None</td>\n",
              "      <td>no</td>\n",
              "    </tr>\n",
              "    <tr>\n",
              "      <th>2</th>\n",
              "      <td>HighBP</td>\n",
              "      <td>Feature</td>\n",
              "      <td>Binary</td>\n",
              "      <td>None</td>\n",
              "      <td>0 = no high BP 1 = high BP</td>\n",
              "      <td>None</td>\n",
              "      <td>no</td>\n",
              "    </tr>\n",
              "    <tr>\n",
              "      <th>3</th>\n",
              "      <td>HighChol</td>\n",
              "      <td>Feature</td>\n",
              "      <td>Binary</td>\n",
              "      <td>None</td>\n",
              "      <td>0 = no high cholesterol 1 = high cholesterol</td>\n",
              "      <td>None</td>\n",
              "      <td>no</td>\n",
              "    </tr>\n",
              "    <tr>\n",
              "      <th>4</th>\n",
              "      <td>CholCheck</td>\n",
              "      <td>Feature</td>\n",
              "      <td>Binary</td>\n",
              "      <td>None</td>\n",
              "      <td>0 = no cholesterol check in 5 years 1 = yes cholesterol check in 5 years</td>\n",
              "      <td>None</td>\n",
              "      <td>no</td>\n",
              "    </tr>\n",
              "    <tr>\n",
              "      <th>5</th>\n",
              "      <td>BMI</td>\n",
              "      <td>Feature</td>\n",
              "      <td>Integer</td>\n",
              "      <td>None</td>\n",
              "      <td>Body Mass Index</td>\n",
              "      <td>None</td>\n",
              "      <td>no</td>\n",
              "    </tr>\n",
              "    <tr>\n",
              "      <th>6</th>\n",
              "      <td>Smoker</td>\n",
              "      <td>Feature</td>\n",
              "      <td>Binary</td>\n",
              "      <td>None</td>\n",
              "      <td>Have you smoked at least 100 cigarettes in your entire life? [Note: 5 packs = 100 cigarettes] 0 = no 1 = yes</td>\n",
              "      <td>None</td>\n",
              "      <td>no</td>\n",
              "    </tr>\n",
              "    <tr>\n",
              "      <th>7</th>\n",
              "      <td>Stroke</td>\n",
              "      <td>Feature</td>\n",
              "      <td>Binary</td>\n",
              "      <td>None</td>\n",
              "      <td>(Ever told) you had a stroke. 0 = no 1 = yes</td>\n",
              "      <td>None</td>\n",
              "      <td>no</td>\n",
              "    </tr>\n",
              "    <tr>\n",
              "      <th>8</th>\n",
              "      <td>HeartDiseaseorAttack</td>\n",
              "      <td>Feature</td>\n",
              "      <td>Binary</td>\n",
              "      <td>None</td>\n",
              "      <td>coronary heart disease (CHD) or myocardial infarction (MI) 0 = no 1 = yes</td>\n",
              "      <td>None</td>\n",
              "      <td>no</td>\n",
              "    </tr>\n",
              "    <tr>\n",
              "      <th>9</th>\n",
              "      <td>PhysActivity</td>\n",
              "      <td>Feature</td>\n",
              "      <td>Binary</td>\n",
              "      <td>None</td>\n",
              "      <td>physical activity in past 30 days - not including job 0 = no 1 = yes</td>\n",
              "      <td>None</td>\n",
              "      <td>no</td>\n",
              "    </tr>\n",
              "    <tr>\n",
              "      <th>10</th>\n",
              "      <td>Fruits</td>\n",
              "      <td>Feature</td>\n",
              "      <td>Binary</td>\n",
              "      <td>None</td>\n",
              "      <td>Consume Fruit 1 or more times per day 0 = no 1 = yes</td>\n",
              "      <td>None</td>\n",
              "      <td>no</td>\n",
              "    </tr>\n",
              "    <tr>\n",
              "      <th>11</th>\n",
              "      <td>Veggies</td>\n",
              "      <td>Feature</td>\n",
              "      <td>Binary</td>\n",
              "      <td>None</td>\n",
              "      <td>Consume Vegetables 1 or more times per day 0 = no 1 = yes</td>\n",
              "      <td>None</td>\n",
              "      <td>no</td>\n",
              "    </tr>\n",
              "    <tr>\n",
              "      <th>12</th>\n",
              "      <td>HvyAlcoholConsump</td>\n",
              "      <td>Feature</td>\n",
              "      <td>Binary</td>\n",
              "      <td>None</td>\n",
              "      <td>Heavy drinkers (adult men having more than 14 drinks per week and adult women having more than 7 drinks per week) 0 = no 1 = yes</td>\n",
              "      <td>None</td>\n",
              "      <td>no</td>\n",
              "    </tr>\n",
              "    <tr>\n",
              "      <th>13</th>\n",
              "      <td>AnyHealthcare</td>\n",
              "      <td>Feature</td>\n",
              "      <td>Binary</td>\n",
              "      <td>None</td>\n",
              "      <td>Have any kind of health care coverage, including health insurance, prepaid plans such as HMO, etc. 0 = no 1 = yes</td>\n",
              "      <td>None</td>\n",
              "      <td>no</td>\n",
              "    </tr>\n",
              "    <tr>\n",
              "      <th>14</th>\n",
              "      <td>NoDocbcCost</td>\n",
              "      <td>Feature</td>\n",
              "      <td>Binary</td>\n",
              "      <td>None</td>\n",
              "      <td>Was there a time in the past 12 months when you needed to see a doctor but could not because of cost? 0 = no 1 = yes</td>\n",
              "      <td>None</td>\n",
              "      <td>no</td>\n",
              "    </tr>\n",
              "    <tr>\n",
              "      <th>15</th>\n",
              "      <td>GenHlth</td>\n",
              "      <td>Feature</td>\n",
              "      <td>Integer</td>\n",
              "      <td>None</td>\n",
              "      <td>Would you say that in general your health is: scale 1-5 1 = excellent 2 = very good 3 = good 4 = fair 5 = poor</td>\n",
              "      <td>None</td>\n",
              "      <td>no</td>\n",
              "    </tr>\n",
              "    <tr>\n",
              "      <th>16</th>\n",
              "      <td>MentHlth</td>\n",
              "      <td>Feature</td>\n",
              "      <td>Integer</td>\n",
              "      <td>None</td>\n",
              "      <td>Now thinking about your mental health, which includes stress, depression, and problems with emotions, for how many days during the past 30 days was your mental health not good? scale 1-30 days</td>\n",
              "      <td>None</td>\n",
              "      <td>no</td>\n",
              "    </tr>\n",
              "    <tr>\n",
              "      <th>17</th>\n",
              "      <td>PhysHlth</td>\n",
              "      <td>Feature</td>\n",
              "      <td>Integer</td>\n",
              "      <td>None</td>\n",
              "      <td>Now thinking about your physical health, which includes physical illness and injury, for how many days during the past 30 days was your physical health not good? scale 1-30 days</td>\n",
              "      <td>None</td>\n",
              "      <td>no</td>\n",
              "    </tr>\n",
              "    <tr>\n",
              "      <th>18</th>\n",
              "      <td>DiffWalk</td>\n",
              "      <td>Feature</td>\n",
              "      <td>Binary</td>\n",
              "      <td>None</td>\n",
              "      <td>Do you have serious difficulty walking or climbing stairs? 0 = no 1 = yes</td>\n",
              "      <td>None</td>\n",
              "      <td>no</td>\n",
              "    </tr>\n",
              "    <tr>\n",
              "      <th>19</th>\n",
              "      <td>Sex</td>\n",
              "      <td>Feature</td>\n",
              "      <td>Binary</td>\n",
              "      <td>Sex</td>\n",
              "      <td>0 = female 1 = male</td>\n",
              "      <td>None</td>\n",
              "      <td>no</td>\n",
              "    </tr>\n",
              "    <tr>\n",
              "      <th>20</th>\n",
              "      <td>Age</td>\n",
              "      <td>Feature</td>\n",
              "      <td>Integer</td>\n",
              "      <td>Age</td>\n",
              "      <td>13-level age category (_AGEG5YR see codebook) 1 = 18-24 9 = 60-64 13 = 80 or older</td>\n",
              "      <td>None</td>\n",
              "      <td>no</td>\n",
              "    </tr>\n",
              "    <tr>\n",
              "      <th>21</th>\n",
              "      <td>Education</td>\n",
              "      <td>Feature</td>\n",
              "      <td>Integer</td>\n",
              "      <td>Education Level</td>\n",
              "      <td>Education level (EDUCA see codebook) scale 1-6 1 = Never attended school or only kindergarten 2 = Grades 1 through 8 (Elementary) 3 = Grades 9 through 11 (Some high school) 4 = Grade 12 or GED (High school graduate) 5 = College 1 year to 3 years (Some college or technical school) 6 = College 4 years or more (College graduate)</td>\n",
              "      <td>None</td>\n",
              "      <td>no</td>\n",
              "    </tr>\n",
              "    <tr>\n",
              "      <th>22</th>\n",
              "      <td>Income</td>\n",
              "      <td>Feature</td>\n",
              "      <td>Integer</td>\n",
              "      <td>Income</td>\n",
              "      <td>Income scale (INCOME2 see codebook) scale 1-8 1 = less than $10,000 5 = less than $35,000 8 = $75,000 or more</td>\n",
              "      <td>None</td>\n",
              "      <td>no</td>\n",
              "    </tr>\n",
              "  </tbody>\n",
              "</table>\n",
              "</div>\n",
              "    <div class=\"colab-df-buttons\">\n",
              "\n",
              "  <div class=\"colab-df-container\">\n",
              "    <button class=\"colab-df-convert\" onclick=\"convertToInteractive('df-49618467-c108-446f-8526-70705354d527')\"\n",
              "            title=\"Convert this dataframe to an interactive table.\"\n",
              "            style=\"display:none;\">\n",
              "\n",
              "  <svg xmlns=\"http://www.w3.org/2000/svg\" height=\"24px\" viewBox=\"0 -960 960 960\">\n",
              "    <path d=\"M120-120v-720h720v720H120Zm60-500h600v-160H180v160Zm220 220h160v-160H400v160Zm0 220h160v-160H400v160ZM180-400h160v-160H180v160Zm440 0h160v-160H620v160ZM180-180h160v-160H180v160Zm440 0h160v-160H620v160Z\"/>\n",
              "  </svg>\n",
              "    </button>\n",
              "\n",
              "  <style>\n",
              "    .colab-df-container {\n",
              "      display:flex;\n",
              "      gap: 12px;\n",
              "    }\n",
              "\n",
              "    .colab-df-convert {\n",
              "      background-color: #E8F0FE;\n",
              "      border: none;\n",
              "      border-radius: 50%;\n",
              "      cursor: pointer;\n",
              "      display: none;\n",
              "      fill: #1967D2;\n",
              "      height: 32px;\n",
              "      padding: 0 0 0 0;\n",
              "      width: 32px;\n",
              "    }\n",
              "\n",
              "    .colab-df-convert:hover {\n",
              "      background-color: #E2EBFA;\n",
              "      box-shadow: 0px 1px 2px rgba(60, 64, 67, 0.3), 0px 1px 3px 1px rgba(60, 64, 67, 0.15);\n",
              "      fill: #174EA6;\n",
              "    }\n",
              "\n",
              "    .colab-df-buttons div {\n",
              "      margin-bottom: 4px;\n",
              "    }\n",
              "\n",
              "    [theme=dark] .colab-df-convert {\n",
              "      background-color: #3B4455;\n",
              "      fill: #D2E3FC;\n",
              "    }\n",
              "\n",
              "    [theme=dark] .colab-df-convert:hover {\n",
              "      background-color: #434B5C;\n",
              "      box-shadow: 0px 1px 3px 1px rgba(0, 0, 0, 0.15);\n",
              "      filter: drop-shadow(0px 1px 2px rgba(0, 0, 0, 0.3));\n",
              "      fill: #FFFFFF;\n",
              "    }\n",
              "  </style>\n",
              "\n",
              "    <script>\n",
              "      const buttonEl =\n",
              "        document.querySelector('#df-49618467-c108-446f-8526-70705354d527 button.colab-df-convert');\n",
              "      buttonEl.style.display =\n",
              "        google.colab.kernel.accessAllowed ? 'block' : 'none';\n",
              "\n",
              "      async function convertToInteractive(key) {\n",
              "        const element = document.querySelector('#df-49618467-c108-446f-8526-70705354d527');\n",
              "        const dataTable =\n",
              "          await google.colab.kernel.invokeFunction('convertToInteractive',\n",
              "                                                    [key], {});\n",
              "        if (!dataTable) return;\n",
              "\n",
              "        const docLinkHtml = 'Like what you see? Visit the ' +\n",
              "          '<a target=\"_blank\" href=https://colab.research.google.com/notebooks/data_table.ipynb>data table notebook</a>'\n",
              "          + ' to learn more about interactive tables.';\n",
              "        element.innerHTML = '';\n",
              "        dataTable['output_type'] = 'display_data';\n",
              "        await google.colab.output.renderOutput(dataTable, element);\n",
              "        const docLink = document.createElement('div');\n",
              "        docLink.innerHTML = docLinkHtml;\n",
              "        element.appendChild(docLink);\n",
              "      }\n",
              "    </script>\n",
              "  </div>\n",
              "\n",
              "\n",
              "    <div id=\"df-2a38fb71-4b4f-4932-8fcf-1f557a1d51a8\">\n",
              "      <button class=\"colab-df-quickchart\" onclick=\"quickchart('df-2a38fb71-4b4f-4932-8fcf-1f557a1d51a8')\"\n",
              "                title=\"Suggest charts\"\n",
              "                style=\"display:none;\">\n",
              "\n",
              "<svg xmlns=\"http://www.w3.org/2000/svg\" height=\"24px\"viewBox=\"0 0 24 24\"\n",
              "     width=\"24px\">\n",
              "    <g>\n",
              "        <path d=\"M19 3H5c-1.1 0-2 .9-2 2v14c0 1.1.9 2 2 2h14c1.1 0 2-.9 2-2V5c0-1.1-.9-2-2-2zM9 17H7v-7h2v7zm4 0h-2V7h2v10zm4 0h-2v-4h2v4z\"/>\n",
              "    </g>\n",
              "</svg>\n",
              "      </button>\n",
              "\n",
              "<style>\n",
              "  .colab-df-quickchart {\n",
              "      --bg-color: #E8F0FE;\n",
              "      --fill-color: #1967D2;\n",
              "      --hover-bg-color: #E2EBFA;\n",
              "      --hover-fill-color: #174EA6;\n",
              "      --disabled-fill-color: #AAA;\n",
              "      --disabled-bg-color: #DDD;\n",
              "  }\n",
              "\n",
              "  [theme=dark] .colab-df-quickchart {\n",
              "      --bg-color: #3B4455;\n",
              "      --fill-color: #D2E3FC;\n",
              "      --hover-bg-color: #434B5C;\n",
              "      --hover-fill-color: #FFFFFF;\n",
              "      --disabled-bg-color: #3B4455;\n",
              "      --disabled-fill-color: #666;\n",
              "  }\n",
              "\n",
              "  .colab-df-quickchart {\n",
              "    background-color: var(--bg-color);\n",
              "    border: none;\n",
              "    border-radius: 50%;\n",
              "    cursor: pointer;\n",
              "    display: none;\n",
              "    fill: var(--fill-color);\n",
              "    height: 32px;\n",
              "    padding: 0;\n",
              "    width: 32px;\n",
              "  }\n",
              "\n",
              "  .colab-df-quickchart:hover {\n",
              "    background-color: var(--hover-bg-color);\n",
              "    box-shadow: 0 1px 2px rgba(60, 64, 67, 0.3), 0 1px 3px 1px rgba(60, 64, 67, 0.15);\n",
              "    fill: var(--button-hover-fill-color);\n",
              "  }\n",
              "\n",
              "  .colab-df-quickchart-complete:disabled,\n",
              "  .colab-df-quickchart-complete:disabled:hover {\n",
              "    background-color: var(--disabled-bg-color);\n",
              "    fill: var(--disabled-fill-color);\n",
              "    box-shadow: none;\n",
              "  }\n",
              "\n",
              "  .colab-df-spinner {\n",
              "    border: 2px solid var(--fill-color);\n",
              "    border-color: transparent;\n",
              "    border-bottom-color: var(--fill-color);\n",
              "    animation:\n",
              "      spin 1s steps(1) infinite;\n",
              "  }\n",
              "\n",
              "  @keyframes spin {\n",
              "    0% {\n",
              "      border-color: transparent;\n",
              "      border-bottom-color: var(--fill-color);\n",
              "      border-left-color: var(--fill-color);\n",
              "    }\n",
              "    20% {\n",
              "      border-color: transparent;\n",
              "      border-left-color: var(--fill-color);\n",
              "      border-top-color: var(--fill-color);\n",
              "    }\n",
              "    30% {\n",
              "      border-color: transparent;\n",
              "      border-left-color: var(--fill-color);\n",
              "      border-top-color: var(--fill-color);\n",
              "      border-right-color: var(--fill-color);\n",
              "    }\n",
              "    40% {\n",
              "      border-color: transparent;\n",
              "      border-right-color: var(--fill-color);\n",
              "      border-top-color: var(--fill-color);\n",
              "    }\n",
              "    60% {\n",
              "      border-color: transparent;\n",
              "      border-right-color: var(--fill-color);\n",
              "    }\n",
              "    80% {\n",
              "      border-color: transparent;\n",
              "      border-right-color: var(--fill-color);\n",
              "      border-bottom-color: var(--fill-color);\n",
              "    }\n",
              "    90% {\n",
              "      border-color: transparent;\n",
              "      border-bottom-color: var(--fill-color);\n",
              "    }\n",
              "  }\n",
              "</style>\n",
              "\n",
              "      <script>\n",
              "        async function quickchart(key) {\n",
              "          const quickchartButtonEl =\n",
              "            document.querySelector('#' + key + ' button');\n",
              "          quickchartButtonEl.disabled = true;  // To prevent multiple clicks.\n",
              "          quickchartButtonEl.classList.add('colab-df-spinner');\n",
              "          try {\n",
              "            const charts = await google.colab.kernel.invokeFunction(\n",
              "                'suggestCharts', [key], {});\n",
              "          } catch (error) {\n",
              "            console.error('Error during call to suggestCharts:', error);\n",
              "          }\n",
              "          quickchartButtonEl.classList.remove('colab-df-spinner');\n",
              "          quickchartButtonEl.classList.add('colab-df-quickchart-complete');\n",
              "        }\n",
              "        (() => {\n",
              "          let quickchartButtonEl =\n",
              "            document.querySelector('#df-2a38fb71-4b4f-4932-8fcf-1f557a1d51a8 button');\n",
              "          quickchartButtonEl.style.display =\n",
              "            google.colab.kernel.accessAllowed ? 'block' : 'none';\n",
              "        })();\n",
              "      </script>\n",
              "    </div>\n",
              "\n",
              "    </div>\n",
              "  </div>\n"
            ],
            "application/vnd.google.colaboratory.intrinsic+json": {
              "type": "dataframe",
              "repr_error": "Out of range float values are not JSON compliant: nan"
            }
          },
          "metadata": {}
        }
      ],
      "source": [
        "# loading Diabetes Health Indicators dataset\n",
        "dhi = fetch_ucirepo(id=891)\n",
        "\n",
        "pd.set_option('display.max_colwidth', None)\n",
        "print('Variable Information:')\n",
        "display(dhi.variables)"
      ]
    },
    {
      "cell_type": "markdown",
      "source": [
        "###Feature selection and df separation between features and target"
      ],
      "metadata": {
        "id": "G-f2aaJ5VY6V"
      }
    },
    {
      "cell_type": "code",
      "source": [
        "# manual feature selection and features and target separation\n",
        "x = dhi.data.features.drop(columns=['Education', 'Income', 'NoDocbcCost', 'AnyHealthcare'])\n",
        "y = dhi.data.targets\n",
        "\n",
        "# separating feature names and target name\n",
        "feature_names = list(x.columns)\n",
        "target_name = y.columns[0]\n",
        "\n",
        "print('Target name:', target_name)\n",
        "print('Feature names:', feature_names)\n",
        "print('Target count:\\n', y.value_counts())"
      ],
      "metadata": {
        "colab": {
          "base_uri": "https://localhost:8080/"
        },
        "id": "nWAcsZhEVlBF",
        "outputId": "bc68c557-ba1f-436c-890f-a9d88511a2a3"
      },
      "execution_count": 3,
      "outputs": [
        {
          "output_type": "stream",
          "name": "stdout",
          "text": [
            "Target name: Diabetes_binary\n",
            "Feature names: ['HighBP', 'HighChol', 'CholCheck', 'BMI', 'Smoker', 'Stroke', 'HeartDiseaseorAttack', 'PhysActivity', 'Fruits', 'Veggies', 'HvyAlcoholConsump', 'GenHlth', 'MentHlth', 'PhysHlth', 'DiffWalk', 'Sex', 'Age']\n",
            "Target count:\n",
            " Diabetes_binary\n",
            "0                  218334\n",
            "1                   35346\n",
            "Name: count, dtype: int64\n"
          ]
        }
      ]
    },
    {
      "cell_type": "markdown",
      "source": [],
      "metadata": {
        "id": "3NQkP21jX1It"
      }
    },
    {
      "cell_type": "markdown",
      "source": [
        "###Train and test split"
      ],
      "metadata": {
        "id": "6_nJSwsokzqd"
      }
    },
    {
      "cell_type": "code",
      "source": [
        "xtrain, xtest, ytrain, ytest = train_test_split(x, y, test_size=0.20, stratify=y, random_state=42)\n",
        "# Showing stratification\n",
        "print('Diabetic target proportion on the train:', ytrain.value_counts(normalize=True))\n",
        "print('Diabetic target proportion on the test:', ytest.value_counts(normalize=True))"
      ],
      "metadata": {
        "id": "EAY37yhVky9B",
        "colab": {
          "base_uri": "https://localhost:8080/"
        },
        "outputId": "5892b9dc-a1be-426f-f539-b09dcb1b09c0"
      },
      "execution_count": 4,
      "outputs": [
        {
          "output_type": "stream",
          "name": "stdout",
          "text": [
            "Diabetic target proportion on the train: Diabetes_binary\n",
            "0                  0.860666\n",
            "1                  0.139334\n",
            "Name: proportion, dtype: float64\n",
            "Diabetic target proportion on the test: Diabetes_binary\n",
            "0                  0.860671\n",
            "1                  0.139329\n",
            "Name: proportion, dtype: float64\n"
          ]
        }
      ]
    },
    {
      "cell_type": "markdown",
      "source": [
        "###Normalization"
      ],
      "metadata": {
        "id": "SLEkSsDaNNqb"
      }
    },
    {
      "cell_type": "code",
      "source": [
        "# Selecting features to scaling\n",
        "numerics = ['BMI', 'GenHlth', 'MentHlth', 'PhysHlth', 'Age']\n",
        "scaler = MinMaxScaler()\n",
        "print(xtrain[numerics])\n",
        "# Scaling only the numerics\n",
        "x_train_scaled = xtrain\n",
        "x_test_scaled = xtest\n",
        "x_train_scaled[numerics] = scaler.fit_transform(xtrain[numerics])\n",
        "x_test_scaled[numerics] = scaler.transform(xtest[numerics])\n",
        "print(x_train_scaled[numerics])"
      ],
      "metadata": {
        "colab": {
          "base_uri": "https://localhost:8080/"
        },
        "id": "lbucs1bANXRy",
        "outputId": "6d260285-fec3-475a-d24a-81a0c32b15a7"
      },
      "execution_count": 5,
      "outputs": [
        {
          "output_type": "stream",
          "name": "stdout",
          "text": [
            "        BMI  GenHlth  MentHlth  PhysHlth  Age\n",
            "153147   28        2         0         0    2\n",
            "176137   23        2         0         0   13\n",
            "175578   29        1         0         0    9\n",
            "177887   39        4         0         0    7\n",
            "182143   16        5        30        30    7\n",
            "...     ...      ...       ...       ...  ...\n",
            "208398   25        4         0         0   10\n",
            "106221   25        2         0         1    9\n",
            "169035   18        4        30        30    7\n",
            "49036    26        3         0         0    8\n",
            "206060   31        4         0         5    8\n",
            "\n",
            "[202944 rows x 5 columns]\n",
            "             BMI  GenHlth  MentHlth  PhysHlth       Age\n",
            "153147  0.186047     0.25       0.0  0.000000  0.083333\n",
            "176137  0.127907     0.25       0.0  0.000000  1.000000\n",
            "175578  0.197674     0.00       0.0  0.000000  0.666667\n",
            "177887  0.313953     0.75       0.0  0.000000  0.500000\n",
            "182143  0.046512     1.00       1.0  1.000000  0.500000\n",
            "...          ...      ...       ...       ...       ...\n",
            "208398  0.151163     0.75       0.0  0.000000  0.750000\n",
            "106221  0.151163     0.25       0.0  0.033333  0.666667\n",
            "169035  0.069767     0.75       1.0  1.000000  0.500000\n",
            "49036   0.162791     0.50       0.0  0.000000  0.583333\n",
            "206060  0.220930     0.75       0.0  0.166667  0.583333\n",
            "\n",
            "[202944 rows x 5 columns]\n"
          ]
        }
      ]
    },
    {
      "cell_type": "markdown",
      "source": [
        "###First Training and evaluation - KNN"
      ],
      "metadata": {
        "id": "yJjtabJZSVSn"
      }
    },
    {
      "cell_type": "code",
      "source": [
        "# Training the model with different number of neighbors\n",
        "n_neighbors = [2, 5, 80]\n",
        "for n in n_neighbors:\n",
        "  knn = KNeighborsClassifier(n_neighbors=n)\n",
        "  knn.fit(x_train_scaled, ytrain['Diabetes_binary'])\n",
        "  ypredicted = knn.predict(x_test_scaled)\n",
        "  print(f'Neighbors: {n}')\n",
        "  print(classification_report(ytest, ypredicted))"
      ],
      "metadata": {
        "id": "UoPbOrneVrrM",
        "colab": {
          "base_uri": "https://localhost:8080/"
        },
        "outputId": "a3930c60-93f1-4dd1-e3ae-9025fa95da08"
      },
      "execution_count": 6,
      "outputs": [
        {
          "output_type": "stream",
          "name": "stdout",
          "text": [
            "Neighbors: 2\n",
            "              precision    recall  f1-score   support\n",
            "\n",
            "           0       0.87      0.97      0.92     43667\n",
            "           1       0.38      0.11      0.17      7069\n",
            "\n",
            "    accuracy                           0.85     50736\n",
            "   macro avg       0.62      0.54      0.54     50736\n",
            "weighted avg       0.80      0.85      0.81     50736\n",
            "\n",
            "Neighbors: 5\n",
            "              precision    recall  f1-score   support\n",
            "\n",
            "           0       0.88      0.95      0.91     43667\n",
            "           1       0.39      0.21      0.27      7069\n",
            "\n",
            "    accuracy                           0.84     50736\n",
            "   macro avg       0.64      0.58      0.59     50736\n",
            "weighted avg       0.81      0.84      0.82     50736\n",
            "\n",
            "Neighbors: 80\n",
            "              precision    recall  f1-score   support\n",
            "\n",
            "           0       0.87      0.99      0.93     43667\n",
            "           1       0.55      0.07      0.13      7069\n",
            "\n",
            "    accuracy                           0.86     50736\n",
            "   macro avg       0.71      0.53      0.53     50736\n",
            "weighted avg       0.82      0.86      0.81     50736\n",
            "\n"
          ]
        }
      ]
    },
    {
      "cell_type": "markdown",
      "source": [
        "###Balancing the train data"
      ],
      "metadata": {
        "id": "k-1qmx4FSHiC"
      }
    },
    {
      "cell_type": "code",
      "source": [
        "smote = SMOTE(k_neighbors=2, random_state=42)\n",
        "xbalanced, ybalanced = smote.fit_resample(x_train_scaled, ytrain)\n",
        "print(ybalanced.value_counts())"
      ],
      "metadata": {
        "colab": {
          "base_uri": "https://localhost:8080/"
        },
        "id": "-6NtD7SqSNQ2",
        "outputId": "594a9137-60c5-49ab-ff64-c2457e414312"
      },
      "execution_count": 7,
      "outputs": [
        {
          "output_type": "stream",
          "name": "stdout",
          "text": [
            "Diabetes_binary\n",
            "0                  174667\n",
            "1                  174667\n",
            "Name: count, dtype: int64\n"
          ]
        }
      ]
    },
    {
      "cell_type": "markdown",
      "source": [
        "###New train with balanced train set"
      ],
      "metadata": {
        "id": "ZNtE6A51mKD3"
      }
    },
    {
      "cell_type": "code",
      "source": [
        "n_neighbors = [5, 50, 100, 250]\n",
        "for n in n_neighbors:\n",
        "  knn = KNeighborsClassifier(n_neighbors=n)\n",
        "  knn.fit(xbalanced, ybalanced['Diabetes_binary'])\n",
        "  ypredicted = knn.predict(xtest)\n",
        "  print(f'Neighbors: {n}')\n",
        "  print(classification_report(ytest, ypredicted))"
      ],
      "metadata": {
        "colab": {
          "base_uri": "https://localhost:8080/"
        },
        "id": "7mPx0qY0mJPP",
        "outputId": "883becea-1a45-4acb-bdc3-2303cb4fe5b1"
      },
      "execution_count": 8,
      "outputs": [
        {
          "output_type": "stream",
          "name": "stdout",
          "text": [
            "Neighbors: 5\n",
            "              precision    recall  f1-score   support\n",
            "\n",
            "           0       0.91      0.77      0.84     43667\n",
            "           1       0.28      0.56      0.37      7069\n",
            "\n",
            "    accuracy                           0.74     50736\n",
            "   macro avg       0.60      0.66      0.60     50736\n",
            "weighted avg       0.83      0.74      0.77     50736\n",
            "\n",
            "Neighbors: 50\n",
            "              precision    recall  f1-score   support\n",
            "\n",
            "           0       0.95      0.67      0.79     43667\n",
            "           1       0.28      0.77      0.41      7069\n",
            "\n",
            "    accuracy                           0.69     50736\n",
            "   macro avg       0.61      0.72      0.60     50736\n",
            "weighted avg       0.85      0.69      0.73     50736\n",
            "\n",
            "Neighbors: 100\n",
            "              precision    recall  f1-score   support\n",
            "\n",
            "           0       0.95      0.67      0.78     43667\n",
            "           1       0.28      0.79      0.41      7069\n",
            "\n",
            "    accuracy                           0.68     50736\n",
            "   macro avg       0.62      0.73      0.60     50736\n",
            "weighted avg       0.86      0.68      0.73     50736\n",
            "\n",
            "Neighbors: 250\n",
            "              precision    recall  f1-score   support\n",
            "\n",
            "           0       0.95      0.67      0.78     43667\n",
            "           1       0.28      0.80      0.41      7069\n",
            "\n",
            "    accuracy                           0.68     50736\n",
            "   macro avg       0.62      0.73      0.60     50736\n",
            "weighted avg       0.86      0.68      0.73     50736\n",
            "\n"
          ]
        }
      ]
    },
    {
      "cell_type": "markdown",
      "source": [
        "###Cross Validation"
      ],
      "metadata": {
        "id": "LtMPVHs15coB"
      }
    },
    {
      "cell_type": "code",
      "source": [
        "# The pipeline inside the cross_validate ensures that the val fold created by the cross_val_score does not contain synthetic data.\n",
        "# It aslo ensures that the val fold not fit the scaling. This way, there is no data leackage\n",
        "pipeline = Pipeline([\n",
        "    ('scaler', MinMaxScaler()),\n",
        "    ('smote', SMOTE(k_neighbors=2, random_state=42)),\n",
        "    ('knn', KNeighborsClassifier(n_neighbors=250))\n",
        "])\n",
        "score = cross_validate(\n",
        "    pipeline, xtrain, ytrain['Diabetes_binary'],\n",
        "    scoring=['recall', 'precision', 'accuracy', 'f1'],\n",
        "    cv=5, return_train_score=False\n",
        ")\n",
        "print('Precision', score['test_precision'])\n",
        "print('Recall', score['test_recall'])\n",
        "print('F1-score', score['test_f1'])\n",
        "print('Accuracy', score['test_accuracy'])"
      ],
      "metadata": {
        "colab": {
          "base_uri": "https://localhost:8080/"
        },
        "id": "g3_UAQbz_e_j",
        "outputId": "b2e4e5a2-62f5-49d0-c0d0-10385052cb74"
      },
      "execution_count": 13,
      "outputs": [
        {
          "output_type": "stream",
          "name": "stdout",
          "text": [
            "Precision [0.28009117 0.27695031 0.27697352 0.27867638 0.28300243]\n",
            "Recall [0.8040672  0.80229885 0.7915488  0.79809052 0.8040672 ]\n",
            "F1-score [0.41545982 0.41176204 0.41035747 0.41310515 0.4186539 ]\n",
            "Accuracy [0.68476681 0.68062776 0.68301757 0.68400306 0.68887356]\n"
          ]
        }
      ]
    }
  ]
}