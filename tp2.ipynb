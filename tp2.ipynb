{
  "nbformat": 4,
  "nbformat_minor": 0,
  "metadata": {
    "colab": {
      "provenance": [],
      "authorship_tag": "ABX9TyMGwjl2GwyxLajh1HykO+1y",
      "include_colab_link": true
    },
    "kernelspec": {
      "name": "python3",
      "display_name": "Python 3"
    },
    "language_info": {
      "name": "python"
    }
  },
  "cells": [
    {
      "cell_type": "markdown",
      "metadata": {
        "id": "view-in-github",
        "colab_type": "text"
      },
      "source": [
        "<a href=\"https://colab.research.google.com/github/flaviorv/ai_model_lifecycle/blob/tp2/tp2.ipynb\" target=\"_parent\"><img src=\"https://colab.research.google.com/assets/colab-badge.svg\" alt=\"Open In Colab\"/></a>"
      ]
    },
    {
      "cell_type": "markdown",
      "source": [
        "###Feature Selection and Synthetic Data"
      ],
      "metadata": {
        "id": "c26ru7QJZOx-"
      }
    },
    {
      "cell_type": "code",
      "execution_count": 48,
      "metadata": {
        "colab": {
          "base_uri": "https://localhost:8080/"
        },
        "id": "nm_ncvRETr8q",
        "outputId": "2a799523-47c4-4d52-caec-7623601842b5"
      },
      "outputs": [
        {
          "output_type": "stream",
          "name": "stdout",
          "text": [
            "Train data: 364\n",
            "With synthetic: 462\n",
            "With noise: 924\n",
            "Recall 0.9454545454545455   Neighbors  10 Features   5\n",
            "Recall 0.9818181818181818   Neighbors  10 Features  15\n",
            "Recall 1.0                  Neighbors  10 Features  25\n",
            "Recall 1.0                  Neighbors  30 Features   5\n",
            "Recall 1.0                  Neighbors  30 Features  15\n",
            "Recall 1.0                  Neighbors  30 Features  25\n",
            "Recall 1.0                  Neighbors  50 Features   5\n",
            "Recall 1.0                  Neighbors  50 Features  15\n",
            "Recall 1.0                  Neighbors  50 Features  25\n"
          ]
        }
      ],
      "source": [
        "from sklearn.datasets import load_breast_cancer\n",
        "from sklearn.model_selection import train_test_split, cross_val_score\n",
        "from sklearn.feature_selection import SequentialFeatureSelector as SFS\n",
        "from sklearn.neighbors import KNeighborsClassifier as KNN\n",
        "from sklearn.preprocessing import StandardScaler\n",
        "from sklearn.metrics import recall_score\n",
        "from imblearn.over_sampling import SMOTE\n",
        "import seaborn as sns\n",
        "import numpy as np\n",
        "\n",
        "breast_cancer = load_breast_cancer()\n",
        "x = breast_cancer.data\n",
        "y = breast_cancer.target\n",
        "\n",
        "#Separating train, validation and test\n",
        "x_train, x_test, y_train, y_test = train_test_split(x, y, train_size=0.8, random_state=42)\n",
        "x_train, x_val, y_train, y_val = train_test_split(x_train, y_train, train_size=0.8, random_state=42)\n",
        "#Scaling\n",
        "scaler = StandardScaler()\n",
        "x_train = scaler.fit_transform(x_train)\n",
        "x_val = scaler.transform(x_val)\n",
        "x_test = scaler.transform(x_test)\n",
        "#Generating sintetic data for train\n",
        "print('Train data:', len(y_train))\n",
        "smote = SMOTE(random_state=42)\n",
        "x_train, y_train = smote.fit_resample(x_train, y_train)\n",
        "print('With synthetic:', len(y_train))\n",
        "#Adding noise\n",
        "noise = np.random.normal(loc=0, scale=0.5, size=x_train.shape)\n",
        "x_train = np.vstack([x_train, x_train + noise])\n",
        "y_train = np.hstack([y_train, y_train])\n",
        "print('With noise:', len(y_train))\n",
        "\n",
        "#Result of the wrapper feature selector\n",
        "result = {\n",
        "    'recall': [],\n",
        "    'features': [],\n",
        "    'neighbors': [],\n",
        "    'masks': {}\n",
        "}\n",
        "\n",
        "#Wrapper with different number of neighbors and features\n",
        "for nk in range(10, 61, 20):\n",
        "  for nf in range(5, 26, 10):\n",
        "    knn = KNN(n_neighbors=nk)\n",
        "    sfs = SFS(\n",
        "        estimator=knn,\n",
        "        n_features_to_select=nf,\n",
        "        scoring='recall',\n",
        "        cv=2,\n",
        "        n_jobs=-1\n",
        "    )\n",
        "\n",
        "    sfs.fit(x_train, y_train)\n",
        "    mask = sfs.get_support(indices=True)\n",
        "    recall = cross_val_score(knn, x_val[:, mask], y_val, cv=5, scoring='recall')\n",
        "    recall_mean = recall.mean()\n",
        "    print(f\"Recall {recall.mean():<20} Neighbors {nk:>3} Features {nf:>3}\")\n",
        "    result['recall'].append(recall_mean)\n",
        "    result['neighbors'].append(nk)\n",
        "    result['features'].append(nf)\n",
        "    if nf not in result['masks']:\n",
        "        result['masks'][nf] = []\n",
        "    result['masks'][nf].append(mask)"
      ]
    },
    {
      "cell_type": "markdown",
      "source": [
        "###Chart with the best combination for the best recall"
      ],
      "metadata": {
        "id": "zgvgIwTTaQUS"
      }
    },
    {
      "cell_type": "code",
      "source": [
        "chart = sns.catplot(data=result, x=\"neighbors\", y=\"recall\", hue='features', kind='bar')\n",
        "chart.set(ylim=(0.9, 1.0))"
      ],
      "metadata": {
        "colab": {
          "base_uri": "https://localhost:8080/",
          "height": 530
        },
        "id": "3nc_e0NeYO_8",
        "outputId": "d7a0aab8-9b83-4d34-8020-8d8d50ae7428"
      },
      "execution_count": 49,
      "outputs": [
        {
          "output_type": "execute_result",
          "data": {
            "text/plain": [
              "<seaborn.axisgrid.FacetGrid at 0x7cff6027b810>"
            ]
          },
          "metadata": {},
          "execution_count": 49
        },
        {
          "output_type": "display_data",
          "data": {
            "text/plain": [
              "<Figure size 568.611x500 with 1 Axes>"
            ],
            "image/png": "[encoded data removed]"
          },
          "metadata": {}
        }
      ]
    },
    {
      "cell_type": "markdown",
      "source": [
        "###Finding the best combination in the test"
      ],
      "metadata": {
        "id": "wJeUFd0Caqaw"
      }
    },
    {
      "cell_type": "code",
      "source": [
        "best_nf = 5\n",
        "best_nk = [10, 30, 50]\n",
        "\n",
        "for nk in best_nk:\n",
        "  knn = KNN(n_neighbors=nk)\n",
        "  for i in range(len(result['masks'][best_nf])):\n",
        "    selected_features = result['masks'][best_nf][i]\n",
        "    knn.fit(x_train[:, selected_features], y_train)\n",
        "    y_pred = knn.predict(x_test[:, selected_features])\n",
        "    recall = recall_score(y_test, y_pred)\n",
        "    print(f'Neighbors {nk}')\n",
        "    print(f'Features {breast_cancer.feature_names[selected_features]}')\n",
        "    print('Recall', recall, '\\n')"
      ],
      "metadata": {
        "colab": {
          "base_uri": "https://localhost:8080/"
        },
        "id": "gkp7GqCqluwA",
        "outputId": "9f6118bc-85e9-4ac7-a763-41c5214ca8bc"
      },
      "execution_count": 59,
      "outputs": [
        {
          "output_type": "stream",
          "name": "stdout",
          "text": [
            "Neighbors 10\n",
            "Features ['mean concave points' 'symmetry error' 'worst radius' 'worst texture'\n",
            " 'worst concave points']\n",
            "Recall 0.971830985915493 \n",
            "\n",
            "Neighbors 10\n",
            "Features ['mean concave points' 'worst radius' 'worst texture' 'worst perimeter'\n",
            " 'worst concave points']\n",
            "Recall 0.971830985915493 \n",
            "\n",
            "Neighbors 10\n",
            "Features ['mean texture' 'mean smoothness' 'worst radius' 'worst perimeter'\n",
            " 'worst concave points']\n",
            "Recall 0.971830985915493 \n",
            "\n",
            "Neighbors 30\n",
            "Features ['mean concave points' 'symmetry error' 'worst radius' 'worst texture'\n",
            " 'worst concave points']\n",
            "Recall 0.971830985915493 \n",
            "\n",
            "Neighbors 30\n",
            "Features ['mean concave points' 'worst radius' 'worst texture' 'worst perimeter'\n",
            " 'worst concave points']\n",
            "Recall 0.971830985915493 \n",
            "\n",
            "Neighbors 30\n",
            "Features ['mean texture' 'mean smoothness' 'worst radius' 'worst perimeter'\n",
            " 'worst concave points']\n",
            "Recall 0.9859154929577465 \n",
            "\n",
            "Neighbors 50\n",
            "Features ['mean concave points' 'symmetry error' 'worst radius' 'worst texture'\n",
            " 'worst concave points']\n",
            "Recall 0.9859154929577465 \n",
            "\n",
            "Neighbors 50\n",
            "Features ['mean concave points' 'worst radius' 'worst texture' 'worst perimeter'\n",
            " 'worst concave points']\n",
            "Recall 0.971830985915493 \n",
            "\n",
            "Neighbors 50\n",
            "Features ['mean texture' 'mean smoothness' 'worst radius' 'worst perimeter'\n",
            " 'worst concave points']\n",
            "Recall 0.9859154929577465 \n",
            "\n"
          ]
        }
      ]
    }
  ]
}